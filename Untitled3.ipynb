{
 "cells": [
  {
   "cell_type": "code",
   "execution_count": 1,
   "id": "390a45fd",
   "metadata": {},
   "outputs": [
    {
     "name": "stdout",
     "output_type": "stream",
     "text": [
      "✅ Mel shape: (80, 832)\n"
     ]
    }
   ],
   "source": [
    "import librosa\n",
    "import numpy as np\n",
    "\n",
    "# Audio load\n",
    "wav, sr = librosa.load(\"lj.wav\", sr=22050)\n",
    "\n",
    "# Parameters (from config_v1.json)\n",
    "n_fft = 1024\n",
    "hop_length = 256\n",
    "win_length = 1024\n",
    "n_mels = 80\n",
    "fmin = 0\n",
    "fmax = 8000\n",
    "\n",
    "# Mel spectrogram\n",
    "mel = librosa.feature.melspectrogram(\n",
    "    y=wav,\n",
    "    sr=sr,\n",
    "    n_fft=n_fft,\n",
    "    hop_length=hop_length,\n",
    "    win_length=win_length,\n",
    "    n_mels=n_mels,\n",
    "    fmin=fmin,\n",
    "    fmax=fmax\n",
    ")\n",
    "\n",
    "# Convert to log-mel dB\n",
    "mel_db = librosa.power_to_db(mel, ref=np.max)\n",
    "\n",
    "# Normalize for HiFi-GAN\n",
    "mel_norm = (mel_db - mel_db.mean()) / mel_db.std()\n",
    "\n",
    "print(\"✅ Mel shape:\", mel_norm.shape)\n"
   ]
  },
  {
   "cell_type": "code",
   "execution_count": 3,
   "id": "34c688da",
   "metadata": {},
   "outputs": [
    {
     "name": "stdout",
     "output_type": "stream",
     "text": [
      "✅ HiFi-GAN output saved\n"
     ]
    }
   ],
   "source": [
    "import torch\n",
    "import soundfile as sf\n",
    "from models import Generator  # hifi-gan repo ke models.py se import karo\n",
    "import json\n",
    "from types import SimpleNamespace\n",
    "\n",
    "# Config dict load karo aur SimpleNamespace me convert karo\n",
    "with open(\"config_v1.json\") as f:\n",
    "    h = json.load(f)\n",
    "h = SimpleNamespace(**h)   # <-- yahan dict -> object ban gaya\n",
    "\n",
    "# Model load\n",
    "model = Generator(h)\n",
    "checkpoint = torch.load(\"generator_v1.pt\", map_location=\"cpu\")\n",
    "model.load_state_dict(checkpoint[\"generator\"])\n",
    "model.eval()\n",
    "\n",
    "# Prepare mel tensor\n",
    "mel_torch = torch.FloatTensor(mel_norm).unsqueeze(0)  # (1, n_mels, T)\n",
    "\n",
    "# Generate audio\n",
    "with torch.no_grad():\n",
    "    y_hat = model(mel_torch).squeeze().cpu().numpy()\n",
    "\n",
    "sf.write(\"hifigan_output.wav\", y_hat, sr)\n",
    "print(\"✅ HiFi-GAN output saved\")\n"
   ]
  },
  {
   "cell_type": "code",
   "execution_count": 4,
   "id": "84eee6d0",
   "metadata": {},
   "outputs": [
    {
     "ename": "NameError",
     "evalue": "name 'ipd' is not defined",
     "output_type": "error",
     "traceback": [
      "\u001b[0;31m---------------------------------------------------------------------------\u001b[0m",
      "\u001b[0;31mNameError\u001b[0m                                 Traceback (most recent call last)",
      "\u001b[0;32m<ipython-input-4-eecdf6e4ef46>\u001b[0m in \u001b[0;36m<module>\u001b[0;34m\u001b[0m\n\u001b[0;32m----> 1\u001b[0;31m \u001b[0mipd\u001b[0m\u001b[0;34m.\u001b[0m\u001b[0mAudio\u001b[0m\u001b[0;34m(\u001b[0m\u001b[0my_hat\u001b[0m\u001b[0;34m,\u001b[0m \u001b[0mrate\u001b[0m\u001b[0;34m=\u001b[0m\u001b[0msr\u001b[0m\u001b[0;34m)\u001b[0m\u001b[0;34m\u001b[0m\u001b[0;34m\u001b[0m\u001b[0m\n\u001b[0m",
      "\u001b[0;31mNameError\u001b[0m: name 'ipd' is not defined"
     ]
    }
   ],
   "source": [
    "ipd.Audio(y_hat, rate=sr)\n"
   ]
  },
  {
   "cell_type": "code",
   "execution_count": null,
   "id": "be05fbd0",
   "metadata": {},
   "outputs": [],
   "source": []
  }
 ],
 "metadata": {
  "kernelspec": {
   "display_name": "Python (hifi-gan)",
   "language": "python",
   "name": "hifi-gan"
  },
  "language_info": {
   "codemirror_mode": {
    "name": "ipython",
    "version": 3
   },
   "file_extension": ".py",
   "mimetype": "text/x-python",
   "name": "python",
   "nbconvert_exporter": "python",
   "pygments_lexer": "ipython3",
   "version": "3.6.13"
  }
 },
 "nbformat": 4,
 "nbformat_minor": 5
}
