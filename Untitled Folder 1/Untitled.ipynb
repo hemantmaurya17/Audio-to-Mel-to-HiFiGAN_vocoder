{
 "cells": [
  {
   "cell_type": "code",
   "execution_count": 1,
   "id": "8ef968b6",
   "metadata": {},
   "outputs": [
    {
     "name": "stderr",
     "output_type": "stream",
     "text": [
      "/home/hemant/miniconda3/envs/hifi-gan/lib/python3.6/site-packages/tqdm/auto.py:22: TqdmWarning: IProgress not found. Please update jupyter and ipywidgets. See https://ipywidgets.readthedocs.io/en/stable/user_install.html\n",
      "  from .autonotebook import tqdm as notebook_tqdm\n"
     ]
    }
   ],
   "source": [
    "import numpy as np\n",
    "import librosa\n",
    "import soundfile as sf\n",
    "import torch\n",
    "import matplotlib.pyplot as plt\n",
    "from IPython.display import Audio"
   ]
  },
  {
   "cell_type": "code",
   "execution_count": 4,
   "id": "79f8cd0f",
   "metadata": {},
   "outputs": [
    {
     "ename": "IndentationError",
     "evalue": "expected an indented block (<ipython-input-4-24dae68982c8>, line 3)",
     "output_type": "error",
     "traceback": [
      "\u001b[0;36m  File \u001b[0;32m\"<ipython-input-4-24dae68982c8>\"\u001b[0;36m, line \u001b[0;32m3\u001b[0m\n\u001b[0;31m    y, _ = librosa.load(\"audio.scale\", sr=sr)\u001b[0m\n\u001b[0m    ^\u001b[0m\n\u001b[0;31mIndentationError\u001b[0m\u001b[0;31m:\u001b[0m expected an indented block\n"
     ]
    }
   ],
   "source": [
    "#Step 1: Audio to Mel-Spectrogram with graph\n",
    "def audio_to_mel(audio_path, sr=22050, n_fft=1024, hop_length=256, n_mels=80, power=1.0):\n",
    "y, _ = librosa.load(\"audio.scale\", sr=sr)\n",
    "mel = librosa.feature.melspectrogram(\n",
    "y=y, sr=sr, n_fft=n_fft, hop_length=hop_length, n_mels=n_mels, power=power\n",
    ")\n",
    "mel_db = librosa.power_to_db(mel, ref=np.max)\n",
    "mel_norm = (mel_db + 100) / 100 # normalize to [0,1]\n",
    "mel_tensor = torch.tensor(mel_norm).unsqueeze(0)"
   ]
  },
  {
   "cell_type": "code",
   "execution_count": null,
   "id": "474b8059",
   "metadata": {},
   "outputs": [],
   "source": []
  }
 ],
 "metadata": {
  "kernelspec": {
   "display_name": "Python (hifi-gan)",
   "language": "python",
   "name": "hifi-gan"
  },
  "language_info": {
   "codemirror_mode": {
    "name": "ipython",
    "version": 3
   },
   "file_extension": ".py",
   "mimetype": "text/x-python",
   "name": "python",
   "nbconvert_exporter": "python",
   "pygments_lexer": "ipython3",
   "version": "3.6.13"
  }
 },
 "nbformat": 4,
 "nbformat_minor": 5
}
