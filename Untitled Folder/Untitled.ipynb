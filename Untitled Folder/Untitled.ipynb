{
 "cells": [
  {
   "cell_type": "code",
   "execution_count": 9,
   "id": "8c7fe094",
   "metadata": {},
   "outputs": [
    {
     "name": "stdout",
     "output_type": "stream",
     "text": [
      "✅ Audio Generated Successfully: output_from_scale.wav\n"
     ]
    }
   ],
   "source": [
    "import os\n",
    "import torch\n",
    "import json\n",
    "import numpy as np\n",
    "import librosa\n",
    "from types import SimpleNamespace\n",
    "from models import Generator\n",
    "from scipy.io.wavfile import write\n",
    "\n",
    "# -----------------------------\n",
    "# 1️⃣ Set working directory\n",
    "# -----------------------------\n",
    "os.chdir(\"/home/hemant/Desktop/my_project/hifi-gan\")  # project folder jahan generator_v1.pt aur config_v1.json hai\n",
    "\n",
    "# -----------------------------\n",
    "# 2️⃣ Load HiFi-GAN config\n",
    "# -----------------------------\n",
    "with open(\"config_v1.json\") as f:\n",
    "    config_dict = json.load(f)\n",
    "config = SimpleNamespace(**config_dict)\n",
    "\n",
    "# -----------------------------\n",
    "# 3️⃣ Load Generator model\n",
    "# -----------------------------\n",
    "model = Generator(config)\n",
    "checkpoint = torch.load(\"generator_v1.pt\", map_location=\"cpu\")\n",
    "model.load_state_dict(checkpoint['generator'])  # check key matches checkpoint\n",
    "model.eval()\n",
    "\n",
    "# -----------------------------\n",
    "# 4️⃣ Function to convert audio to MEL spectrogram\n",
    "# -----------------------------\n",
    "def wav_to_mel(file_path, config):\n",
    "    # Load audio\n",
    "    wav, sr = librosa.load(file_path, sr=config.sampling_rate)\n",
    "    \n",
    "    # Normalize\n",
    "    wav = wav / np.abs(wav).max() * 0.99\n",
    "    \n",
    "    # Convert to MEL spectrogram\n",
    "    mel = librosa.feature.melspectrogram(\n",
    "        y=wav,\n",
    "        sr=sr,\n",
    "        n_fft=config.n_fft,\n",
    "        hop_length=config.hop_size,\n",
    "        win_length=config.win_size,\n",
    "        n_mels=config.num_mels,\n",
    "        fmin=config.fmin,\n",
    "        fmax=config.fmax\n",
    "    )\n",
    "    mel = torch.from_numpy(mel).unsqueeze(0).float()  # [1, n_mels, time]\n",
    "    return mel\n",
    "\n",
    "# -----------------------------\n",
    "# 5️⃣ Pass your audio file here\n",
    "# -----------------------------\n",
    "input_wav = \"scale.wav\"\n",
    "mel = wav_to_mel(input_wav, config)\n",
    "\n",
    "# -----------------------------\n",
    "# 6️⃣ Generate audio from MEL\n",
    "# -----------------------------\n",
    "with torch.no_grad():\n",
    "    audio_out = model(mel).squeeze().cpu().numpy()\n",
    "\n",
    "# -----------------------------\n",
    "# 7️⃣ Save generated audio\n",
    "# -----------------------------\n",
    "output_file = \"output_from_scale.wav\"\n",
    "write(output_file, config.sampling_rate, (audio_out * 32767).astype(np.int16))\n",
    "\n",
    "print(f\"✅ Audio Generated Successfully: {output_file}\")\n"
   ]
  },
  {
   "cell_type": "code",
   "execution_count": null,
   "id": "5e419b08",
   "metadata": {},
   "outputs": [],
   "source": []
  },
  {
   "cell_type": "code",
   "execution_count": null,
   "id": "de095723",
   "metadata": {},
   "outputs": [],
   "source": []
  }
 ],
 "metadata": {
  "kernelspec": {
   "display_name": "Python (hifi-gan)",
   "language": "python",
   "name": "hifi-gan"
  },
  "language_info": {
   "codemirror_mode": {
    "name": "ipython",
    "version": 3
   },
   "file_extension": ".py",
   "mimetype": "text/x-python",
   "name": "python",
   "nbconvert_exporter": "python",
   "pygments_lexer": "ipython3",
   "version": "3.6.13"
  }
 },
 "nbformat": 4,
 "nbformat_minor": 5
}
