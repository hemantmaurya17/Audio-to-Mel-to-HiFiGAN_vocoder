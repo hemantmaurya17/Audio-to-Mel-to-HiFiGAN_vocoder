{
 "cells": [
  {
   "cell_type": "code",
   "execution_count": null,
   "id": "8b1c7d02",
   "metadata": {},
   "outputs": [],
   "source": []
  },
  {
   "cell_type": "code",
   "execution_count": 29,
   "id": "feb92cda",
   "metadata": {},
   "outputs": [
    {
     "name": "stdout",
     "output_type": "stream",
     "text": [
      "PESQ Score: 1.3531402349472046\n"
     ]
    }
   ],
   "source": [
    "from pesq import pesq\n",
    "import librosa\n",
    "\n",
    "ref, sr = librosa.load(\"male.wav\", sr=16000)\n",
    "deg, _ = librosa.load(\"output_from_hifigan.wav\", sr=16000)\n",
    "\n",
    "score = pesq(sr, ref, deg, 'wb')  # 'wb' = wideband\n",
    "print(\"PESQ Score:\", score)\n"
   ]
  },
  {
   "cell_type": "code",
   "execution_count": 30,
   "id": "df6faa40",
   "metadata": {},
   "outputs": [
    {
     "name": "stdout",
     "output_type": "stream",
     "text": [
      "STOI Score: 0.30145119395815145\n"
     ]
    }
   ],
   "source": [
    "from pystoi import stoi\n",
    "import librosa\n",
    "\n",
    "# Load audio (ref = original, deg = reconstructed)\n",
    "ref, sr = librosa.load(\"scale.wav\", sr=16000)\n",
    "deg, _ = librosa.load(\"output_from_hifigan.wav\", sr=16000)\n",
    "\n",
    "# Make sure lengths match\n",
    "min_len = min(len(ref), len(deg))\n",
    "ref = ref[:min_len]\n",
    "deg = deg[:min_len]\n",
    "\n",
    "# Calculate STOI\n",
    "score = stoi(ref, deg, sr, extended=False)\n",
    "print(\"STOI Score:\", score)\n"
   ]
  },
  {
   "cell_type": "code",
   "execution_count": 31,
   "id": "20614523",
   "metadata": {},
   "outputs": [
    {
     "name": "stdout",
     "output_type": "stream",
     "text": [
      "MCD Score: 354.0697160356897 dB\n"
     ]
    }
   ],
   "source": [
    "import librosa\n",
    "import numpy as np\n",
    "\n",
    "def calculate_mcd(ref_wav, deg_wav, sr=16000, n_mfcc=13):\n",
    "    # MFCCs extract karo\n",
    "    ref_mfcc = librosa.feature.mfcc(y=ref_wav, sr=sr, n_mfcc=n_mfcc)\n",
    "    deg_mfcc = librosa.feature.mfcc(y=deg_wav, sr=sr, n_mfcc=n_mfcc)\n",
    "    \n",
    "    # Frames align karo (shortest length use karenge)\n",
    "    min_frames = min(ref_mfcc.shape[1], deg_mfcc.shape[1])\n",
    "    ref_mfcc = ref_mfcc[:, :min_frames]\n",
    "    deg_mfcc = deg_mfcc[:, :min_frames]\n",
    "    \n",
    "    # (exclude 0th coefficient) → distortion perceptual hota hai higher cepstral coeffs se\n",
    "    ref_mfcc = ref_mfcc[1:, :]\n",
    "    deg_mfcc = deg_mfcc[1:, :]\n",
    "    \n",
    "    # MCD formula (log-spectral distance)\n",
    "    diff = ref_mfcc - deg_mfcc\n",
    "    dist = np.sqrt((diff ** 2).sum(axis=0))\n",
    "    mcd = (10.0 / np.log(10)) * np.mean(dist)\n",
    "    return mcd\n",
    "\n",
    "# ---------------------------\n",
    "# Example run\n",
    "# ---------------------------\n",
    "ref, sr = librosa.load(\"scale.wav\", sr=16000)\n",
    "deg, _ = librosa.load(\"output_from_hifigan.wav\", sr=16000)\n",
    "\n",
    "min_len = min(len(ref), len(deg))\n",
    "ref, deg = ref[:min_len], deg[:min_len]\n",
    "\n",
    "mcd_score = calculate_mcd(ref, deg, sr=16000)\n",
    "print(\"MCD Score:\", mcd_score, \"dB\")\n"
   ]
  },
  {
   "cell_type": "code",
   "execution_count": 32,
   "id": "e89db059",
   "metadata": {},
   "outputs": [],
   "source": [
    "import numpy as np\n",
    "import librosa\n",
    "from pesq import pesq\n",
    "from pystoi import stoi\n",
    "import python_speech_features as psf\n",
    "from dtw import accelerated_dtw\n",
    "\n",
    "def evaluate(ref_path, deg_path, sr=16000):\n",
    "    # Load\n",
    "    ref, _ = librosa.load(ref_path, sr=sr)\n",
    "    deg, _ = librosa.load(deg_path, sr=sr)\n",
    "\n",
    "    # Normalize\n",
    "    ref = ref / np.max(np.abs(ref))\n",
    "    deg = deg / np.max(np.abs(deg))\n",
    "\n",
    "    # Length match\n",
    "    min_len = min(len(ref), len(deg))\n",
    "    ref, deg = ref[:min_len], deg[:min_len]\n",
    "\n",
    "    # PESQ\n",
    "    pesq_score = pesq(sr, ref, deg, 'wb')\n",
    "\n",
    "    # STOI\n",
    "    stoi_score = stoi(ref, deg, sr, extended=False)\n",
    "\n",
    "    # MCD\n",
    "    ref_mfcc = psf.mfcc(ref, sr)\n",
    "    deg_mfcc = psf.mfcc(deg, sr)\n",
    "    dist, _, _, _ = accelerated_dtw(ref_mfcc, deg_mfcc, dist='euclidean')\n",
    "    mcd = dist / len(ref_mfcc)\n",
    "\n",
    "    print(f\"✅ PESQ : {pesq_score:.3f}\")\n",
    "    print(f\"✅ STOI : {stoi_score:.3f}\")\n",
    "    print(f\"✅ MCD  : {mcd:.3f} dB\")\n",
    "    \n",
    "\n",
    "\n"
   ]
  },
  {
   "cell_type": "code",
   "execution_count": 19,
   "id": "8babe722",
   "metadata": {},
   "outputs": [
    {
     "name": "stdout",
     "output_type": "stream",
     "text": [
      "✅ PESQ : 1.104\n",
      "✅ STOI : 0.301\n",
      "✅ MCD  : 69.444 dB\n"
     ]
    }
   ],
   "source": [
    "evaluate(\"scale.wav\", \"output_from_hifigan.wav\")"
   ]
  },
  {
   "cell_type": "code",
   "execution_count": 34,
   "id": "c419c908",
   "metadata": {},
   "outputs": [
    {
     "name": "stdout",
     "output_type": "stream",
     "text": [
      "✅ Using Config: sr=22050, n_fft=1024, hop=256, win=1024, mels=80\n",
      "✅ Mel saved to input_mel.npy, shape=(80, 684)\n"
     ]
    }
   ],
   "source": [
    "import json\n",
    "import librosa\n",
    "import numpy as np\n",
    "\n",
    "def extract_mel_from_wav(wav_path, config_path, output_npy=\"input_mel.npy\"):\n",
    "    # ---- Load config ----\n",
    "    with open(config_path) as f:\n",
    "        config = json.load(f)\n",
    "\n",
    "    sr = config[\"sampling_rate\"]\n",
    "    n_fft = config[\"n_fft\"]\n",
    "    hop_length = config[\"hop_size\"]\n",
    "    win_length = config[\"win_size\"]\n",
    "    n_mels = config[\"num_mels\"]\n",
    "    fmin = config[\"fmin\"]\n",
    "    fmax = config[\"fmax\"]\n",
    "\n",
    "    print(f\"✅ Using Config: sr={sr}, n_fft={n_fft}, hop={hop_length}, win={win_length}, mels={n_mels}\")\n",
    "\n",
    "    # ---- Load wav ----\n",
    "    y, _ = librosa.load(\"scale.wav\", sr=sr)\n",
    "\n",
    "    # ---- Extract Mel ----\n",
    "    mel = librosa.feature.melspectrogram(\n",
    "        y=y,\n",
    "        sr=sr,\n",
    "        n_fft=n_fft,\n",
    "        hop_length=hop_length,\n",
    "        win_length=win_length,\n",
    "        n_mels=n_mels,\n",
    "        fmin=fmin,\n",
    "        fmax=fmax,\n",
    "        power=1.0\n",
    "    )\n",
    "\n",
    "    # Convert to log-mel (HiFi-GAN usually expects log scale)\n",
    "    mel_db = np.log(np.clip(mel, a_min=1e-5, a_max=None))\n",
    "\n",
    "    # Save mel\n",
    "    np.save(output_npy, mel_db)\n",
    "    print(f\"✅ Mel saved to {output_npy}, shape={mel_db.shape}\")\n",
    "\n",
    "    return mel_db\n",
    "\n",
    "\n",
    "# ------------------ Run Example ------------------\n",
    "if __name__ == \"__main__\":\n",
    "    mel = extract_mel_from_wav(\"input.wav\", \"config_v1.json\", \"input_mel.npy\")\n"
   ]
  },
  {
   "cell_type": "code",
   "execution_count": null,
   "id": "5f93e256",
   "metadata": {},
   "outputs": [],
   "source": []
  }
 ],
 "metadata": {
  "kernelspec": {
   "display_name": "Python (hifi-gan)",
   "language": "python",
   "name": "hifi-gan"
  },
  "language_info": {
   "codemirror_mode": {
    "name": "ipython",
    "version": 3
   },
   "file_extension": ".py",
   "mimetype": "text/x-python",
   "name": "python",
   "nbconvert_exporter": "python",
   "pygments_lexer": "ipython3",
   "version": "3.6.13"
  }
 },
 "nbformat": 4,
 "nbformat_minor": 5
}
